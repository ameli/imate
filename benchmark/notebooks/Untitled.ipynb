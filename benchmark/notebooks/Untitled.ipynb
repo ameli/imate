{
 "cells": [
  {
   "cell_type": "code",
   "execution_count": 18,
   "id": "29413445",
   "metadata": {},
   "outputs": [],
   "source": [
    "from sksparse.cholmod import cholesky as sk_cholesky\n",
    "import numpy\n",
    "import imate\n",
    "import scipy.sparse\n",
    "import time\n",
    "import pickle"
   ]
  },
  {
   "cell_type": "code",
   "execution_count": 23,
   "id": "a7543ffa",
   "metadata": {},
   "outputs": [],
   "source": [
    "#n = 10000\n",
    "#A = imate.sample_matrices.band_matrix(2, 1, n)\n",
    "\n",
    "#filename = '/home/sia/Downloads/imate-results/matrices/gridgena/gridgena_float64.pickle'\n",
    "filename = '/home/sia/Downloads/imate-results/matrices/parabolic_fem/parabolic_fem_float64.pickle'\n",
    "with open(filename, 'rb') as file:\n",
    "    A = pickle.load(file)"
   ]
  },
  {
   "cell_type": "code",
   "execution_count": 24,
   "id": "13becc52",
   "metadata": {},
   "outputs": [
    {
     "name": "stdout",
     "output_type": "stream",
     "text": [
      "-600063.6251096705\n",
      "6.726391315460205\n"
     ]
    }
   ],
   "source": [
    "t0 = time.time()\n",
    "L = sk_cholesky(A)\n",
    "ld1 = L.logdet()\n",
    "t1 = time.time() - t0\n",
    "\n",
    "print(ld1)\n",
    "print(t1)"
   ]
  },
  {
   "cell_type": "code",
   "execution_count": null,
   "id": "6e3a1c4a",
   "metadata": {},
   "outputs": [],
   "source": [
    "ld_c, info_c = imate.logdet(A, method='cholesky')\n",
    "\n",
    "print(ld_c)\n",
    "print(info_c['time']['tot_wall_time'])"
   ]
  },
  {
   "cell_type": "code",
   "execution_count": 25,
   "id": "a914dd59",
   "metadata": {},
   "outputs": [
    {
     "name": "stdout",
     "output_type": "stream",
     "text": [
      "-599765.3482479886\n",
      "6.520378820016049\n"
     ]
    }
   ],
   "source": [
    "ld_s, info_s = imate.logdet(A, method='slq')\n",
    "\n",
    "print(ld_s)\n",
    "print(info_s['time']['tot_wall_time'])"
   ]
  },
  {
   "cell_type": "code",
   "execution_count": null,
   "id": "dbb3647c",
   "metadata": {},
   "outputs": [],
   "source": []
  }
 ],
 "metadata": {
  "kernelspec": {
   "display_name": "Python 3 (ipykernel)",
   "language": "python",
   "name": "python3"
  },
  "language_info": {
   "codemirror_mode": {
    "name": "ipython",
    "version": 3
   },
   "file_extension": ".py",
   "mimetype": "text/x-python",
   "name": "python",
   "nbconvert_exporter": "python",
   "pygments_lexer": "ipython3",
   "version": "3.9.5"
  }
 },
 "nbformat": 4,
 "nbformat_minor": 5
}
